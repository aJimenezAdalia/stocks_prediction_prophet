{
 "cells": [
  {
   "cell_type": "markdown",
   "metadata": {},
   "source": [
    "# Create Data\n",
    "In this notebook we'll build the data to make Facebook's Prophet model able to predict with it.\n",
    "\n",
    "We will import our stocks data from *Yahoo*, which is a widely used site for importing this kind of data.\n",
    "\n",
    "Let's import the necessary libraries:"
   ]
  },
  {
   "cell_type": "code",
   "execution_count": 11,
   "metadata": {},
   "outputs": [
    {
     "ename": "FileNotFoundError",
     "evalue": "[WinError 2] El sistema no puede encontrar el archivo especificado: '../utils'",
     "output_type": "error",
     "traceback": [
      "\u001b[1;31m---------------------------------------------------------------------------\u001b[0m",
      "\u001b[1;31mFileNotFoundError\u001b[0m                         Traceback (most recent call last)",
      "\u001b[1;32m~\\AppData\\Local\\Temp/ipykernel_12708/957999023.py\u001b[0m in \u001b[0;36m<module>\u001b[1;34m\u001b[0m\n\u001b[0;32m      1\u001b[0m \u001b[1;31m# Imports\u001b[0m\u001b[1;33m\u001b[0m\u001b[1;33m\u001b[0m\u001b[1;33m\u001b[0m\u001b[0m\n\u001b[0;32m      2\u001b[0m \u001b[1;32mimport\u001b[0m \u001b[0mos\u001b[0m\u001b[1;33m\u001b[0m\u001b[1;33m\u001b[0m\u001b[0m\n\u001b[1;32m----> 3\u001b[1;33m \u001b[0mos\u001b[0m\u001b[1;33m.\u001b[0m\u001b[0mchdir\u001b[0m\u001b[1;33m(\u001b[0m\u001b[1;34m'../utils'\u001b[0m\u001b[1;33m)\u001b[0m\u001b[1;33m\u001b[0m\u001b[1;33m\u001b[0m\u001b[0m\n\u001b[0m\u001b[0;32m      4\u001b[0m \u001b[1;32mimport\u001b[0m \u001b[0mpandas_datareader\u001b[0m\u001b[1;33m.\u001b[0m\u001b[0mdata\u001b[0m \u001b[1;32mas\u001b[0m \u001b[0mreader\u001b[0m\u001b[1;33m\u001b[0m\u001b[1;33m\u001b[0m\u001b[0m\n\u001b[0;32m      5\u001b[0m \u001b[1;32mimport\u001b[0m \u001b[0mdatetime\u001b[0m \u001b[1;32mas\u001b[0m \u001b[0mdt\u001b[0m\u001b[1;33m\u001b[0m\u001b[1;33m\u001b[0m\u001b[0m\n",
      "\u001b[1;31mFileNotFoundError\u001b[0m: [WinError 2] El sistema no puede encontrar el archivo especificado: '../utils'"
     ]
    }
   ],
   "source": [
    "# Imports\n",
    "import os\n",
    "os.chdir('../utils')\n",
    "import pandas_datareader.data as reader\n",
    "import datetime as dt\n",
    "import warnings\n",
    "warnings.simplefilter(action='ignore', category=FutureWarning)\n",
    "from utils import condition_data"
   ]
  },
  {
   "cell_type": "markdown",
   "metadata": {},
   "source": [
    "We are going to establish a start-date and end-date for our data.\n",
    "\n",
    "Start-date will be 20 years before now. If there's no available data for that period, Yahoo will return the oldest available data instead. The end-date will be now."
   ]
  },
  {
   "cell_type": "code",
   "execution_count": 3,
   "metadata": {},
   "outputs": [],
   "source": [
    "# Establishing start-date and end-date\n",
    "end = dt.datetime.now()\n",
    "start = dt.datetime(end.year - 20, end.month, end.day)"
   ]
  },
  {
   "cell_type": "code",
   "execution_count": 4,
   "metadata": {},
   "outputs": [],
   "source": [
    "# Requesting data\n",
    "df_amazon = reader.get_data_yahoo('AMZN', start, end)\n",
    "df_apple = reader.get_data_yahoo('AAPL', start, end)\n",
    "df_bitcoin = reader.get_data_yahoo('BTC-USD', start, end)\n",
    "df_ford = reader.get_data_yahoo('F', start, end)\n",
    "df_microsoft = reader.get_data_yahoo('MSFT', start, end)\n",
    "df_tesla = reader.get_data_yahoo('TSLA', start, end)"
   ]
  },
  {
   "cell_type": "markdown",
   "metadata": {},
   "source": [
    "Let's take a look of our data:"
   ]
  },
  {
   "cell_type": "code",
   "execution_count": 5,
   "metadata": {},
   "outputs": [
    {
     "data": {
      "text/html": [
       "<div>\n",
       "<style scoped>\n",
       "    .dataframe tbody tr th:only-of-type {\n",
       "        vertical-align: middle;\n",
       "    }\n",
       "\n",
       "    .dataframe tbody tr th {\n",
       "        vertical-align: top;\n",
       "    }\n",
       "\n",
       "    .dataframe thead th {\n",
       "        text-align: right;\n",
       "    }\n",
       "</style>\n",
       "<table border=\"1\" class=\"dataframe\">\n",
       "  <thead>\n",
       "    <tr style=\"text-align: right;\">\n",
       "      <th></th>\n",
       "      <th>High</th>\n",
       "      <th>Low</th>\n",
       "      <th>Open</th>\n",
       "      <th>Close</th>\n",
       "      <th>Volume</th>\n",
       "      <th>Adj Close</th>\n",
       "    </tr>\n",
       "    <tr>\n",
       "      <th>Date</th>\n",
       "      <th></th>\n",
       "      <th></th>\n",
       "      <th></th>\n",
       "      <th></th>\n",
       "      <th></th>\n",
       "      <th></th>\n",
       "    </tr>\n",
       "  </thead>\n",
       "  <tbody>\n",
       "    <tr>\n",
       "      <th>2001-11-26</th>\n",
       "      <td>12.220000</td>\n",
       "      <td>9.800000</td>\n",
       "      <td>9.830000</td>\n",
       "      <td>12.210000</td>\n",
       "      <td>50689200</td>\n",
       "      <td>12.210000</td>\n",
       "    </tr>\n",
       "    <tr>\n",
       "      <th>2001-11-27</th>\n",
       "      <td>12.250000</td>\n",
       "      <td>11.220000</td>\n",
       "      <td>12.050000</td>\n",
       "      <td>11.480000</td>\n",
       "      <td>34308800</td>\n",
       "      <td>11.480000</td>\n",
       "    </tr>\n",
       "    <tr>\n",
       "      <th>2001-11-28</th>\n",
       "      <td>12.400000</td>\n",
       "      <td>11.180000</td>\n",
       "      <td>11.240000</td>\n",
       "      <td>11.590000</td>\n",
       "      <td>48516200</td>\n",
       "      <td>11.590000</td>\n",
       "    </tr>\n",
       "    <tr>\n",
       "      <th>2001-11-29</th>\n",
       "      <td>11.900000</td>\n",
       "      <td>10.790000</td>\n",
       "      <td>11.890000</td>\n",
       "      <td>11.150000</td>\n",
       "      <td>20274000</td>\n",
       "      <td>11.150000</td>\n",
       "    </tr>\n",
       "    <tr>\n",
       "      <th>2001-11-30</th>\n",
       "      <td>11.550000</td>\n",
       "      <td>10.800000</td>\n",
       "      <td>11.300000</td>\n",
       "      <td>11.320000</td>\n",
       "      <td>8888800</td>\n",
       "      <td>11.320000</td>\n",
       "    </tr>\n",
       "    <tr>\n",
       "      <th>...</th>\n",
       "      <td>...</td>\n",
       "      <td>...</td>\n",
       "      <td>...</td>\n",
       "      <td>...</td>\n",
       "      <td>...</td>\n",
       "      <td>...</td>\n",
       "    </tr>\n",
       "    <tr>\n",
       "      <th>2021-11-19</th>\n",
       "      <td>3762.149902</td>\n",
       "      <td>3675.719971</td>\n",
       "      <td>3712.689941</td>\n",
       "      <td>3676.570068</td>\n",
       "      <td>4936700</td>\n",
       "      <td>3676.570068</td>\n",
       "    </tr>\n",
       "    <tr>\n",
       "      <th>2021-11-22</th>\n",
       "      <td>3713.459961</td>\n",
       "      <td>3567.500000</td>\n",
       "      <td>3676.379883</td>\n",
       "      <td>3572.570068</td>\n",
       "      <td>4842200</td>\n",
       "      <td>3572.570068</td>\n",
       "    </tr>\n",
       "    <tr>\n",
       "      <th>2021-11-23</th>\n",
       "      <td>3621.050049</td>\n",
       "      <td>3527.709961</td>\n",
       "      <td>3585.040039</td>\n",
       "      <td>3580.040039</td>\n",
       "      <td>3690200</td>\n",
       "      <td>3580.040039</td>\n",
       "    </tr>\n",
       "    <tr>\n",
       "      <th>2021-11-24</th>\n",
       "      <td>3613.639893</td>\n",
       "      <td>3536.850098</td>\n",
       "      <td>3562.669922</td>\n",
       "      <td>3580.409912</td>\n",
       "      <td>2328000</td>\n",
       "      <td>3580.409912</td>\n",
       "    </tr>\n",
       "    <tr>\n",
       "      <th>2021-11-26</th>\n",
       "      <td>3633.500000</td>\n",
       "      <td>3555.590088</td>\n",
       "      <td>3602.090088</td>\n",
       "      <td>3583.189941</td>\n",
       "      <td>762310</td>\n",
       "      <td>3583.189941</td>\n",
       "    </tr>\n",
       "  </tbody>\n",
       "</table>\n",
       "<p>5037 rows × 6 columns</p>\n",
       "</div>"
      ],
      "text/plain": [
       "                   High          Low         Open        Close    Volume  \\\n",
       "Date                                                                       \n",
       "2001-11-26    12.220000     9.800000     9.830000    12.210000  50689200   \n",
       "2001-11-27    12.250000    11.220000    12.050000    11.480000  34308800   \n",
       "2001-11-28    12.400000    11.180000    11.240000    11.590000  48516200   \n",
       "2001-11-29    11.900000    10.790000    11.890000    11.150000  20274000   \n",
       "2001-11-30    11.550000    10.800000    11.300000    11.320000   8888800   \n",
       "...                 ...          ...          ...          ...       ...   \n",
       "2021-11-19  3762.149902  3675.719971  3712.689941  3676.570068   4936700   \n",
       "2021-11-22  3713.459961  3567.500000  3676.379883  3572.570068   4842200   \n",
       "2021-11-23  3621.050049  3527.709961  3585.040039  3580.040039   3690200   \n",
       "2021-11-24  3613.639893  3536.850098  3562.669922  3580.409912   2328000   \n",
       "2021-11-26  3633.500000  3555.590088  3602.090088  3583.189941    762310   \n",
       "\n",
       "              Adj Close  \n",
       "Date                     \n",
       "2001-11-26    12.210000  \n",
       "2001-11-27    11.480000  \n",
       "2001-11-28    11.590000  \n",
       "2001-11-29    11.150000  \n",
       "2001-11-30    11.320000  \n",
       "...                 ...  \n",
       "2021-11-19  3676.570068  \n",
       "2021-11-22  3572.570068  \n",
       "2021-11-23  3580.040039  \n",
       "2021-11-24  3580.409912  \n",
       "2021-11-26  3583.189941  \n",
       "\n",
       "[5037 rows x 6 columns]"
      ]
     },
     "execution_count": 5,
     "metadata": {},
     "output_type": "execute_result"
    }
   ],
   "source": [
    "df_amazon"
   ]
  },
  {
   "cell_type": "markdown",
   "metadata": {},
   "source": [
    "Our DataFrames have daily data from each stock.\n",
    "\n",
    "In order to make predictions, we'll using the `Close` price only.\n",
    "\n",
    "Facebook's Prophet models requires specific column names:\n",
    "- `ds` for the date\n",
    "- `y` for the target\n",
    "\n",
    "We've build a function to make this process automatically:"
   ]
  },
  {
   "cell_type": "code",
   "execution_count": 6,
   "metadata": {},
   "outputs": [
    {
     "name": "stderr",
     "output_type": "stream",
     "text": [
      "C:\\Users\\tyran\\AppData\\Roaming\\Python\\Python37\\site-packages\\pandas\\core\\generic.py:5516: SettingWithCopyWarning: \n",
      "A value is trying to be set on a copy of a slice from a DataFrame.\n",
      "Try using .loc[row_indexer,col_indexer] = value instead\n",
      "\n",
      "See the caveats in the documentation: https://pandas.pydata.org/pandas-docs/stable/user_guide/indexing.html#returning-a-view-versus-a-copy\n",
      "  self[name] = value\n"
     ]
    }
   ],
   "source": [
    "# Building the data\n",
    "df_amazon = condition_data(df_amazon)\n",
    "df_apple = condition_data(df_apple)\n",
    "df_bitcoin = condition_data(df_bitcoin)\n",
    "df_ford = condition_data(df_ford)\n",
    "df_microsoft = condition_data(df_microsoft)\n",
    "df_tesla = condition_data(df_tesla)"
   ]
  },
  {
   "cell_type": "markdown",
   "metadata": {},
   "source": [
    "Showing the current state of the data:"
   ]
  },
  {
   "cell_type": "code",
   "execution_count": 7,
   "metadata": {},
   "outputs": [
    {
     "data": {
      "text/html": [
       "<div>\n",
       "<style scoped>\n",
       "    .dataframe tbody tr th:only-of-type {\n",
       "        vertical-align: middle;\n",
       "    }\n",
       "\n",
       "    .dataframe tbody tr th {\n",
       "        vertical-align: top;\n",
       "    }\n",
       "\n",
       "    .dataframe thead th {\n",
       "        text-align: right;\n",
       "    }\n",
       "</style>\n",
       "<table border=\"1\" class=\"dataframe\">\n",
       "  <thead>\n",
       "    <tr style=\"text-align: right;\">\n",
       "      <th></th>\n",
       "      <th>ds</th>\n",
       "      <th>y</th>\n",
       "    </tr>\n",
       "  </thead>\n",
       "  <tbody>\n",
       "    <tr>\n",
       "      <th>0</th>\n",
       "      <td>2001-11-26</td>\n",
       "      <td>12.210000</td>\n",
       "    </tr>\n",
       "    <tr>\n",
       "      <th>1</th>\n",
       "      <td>2001-11-27</td>\n",
       "      <td>11.480000</td>\n",
       "    </tr>\n",
       "    <tr>\n",
       "      <th>2</th>\n",
       "      <td>2001-11-28</td>\n",
       "      <td>11.590000</td>\n",
       "    </tr>\n",
       "    <tr>\n",
       "      <th>3</th>\n",
       "      <td>2001-11-29</td>\n",
       "      <td>11.150000</td>\n",
       "    </tr>\n",
       "    <tr>\n",
       "      <th>4</th>\n",
       "      <td>2001-11-30</td>\n",
       "      <td>11.320000</td>\n",
       "    </tr>\n",
       "    <tr>\n",
       "      <th>...</th>\n",
       "      <td>...</td>\n",
       "      <td>...</td>\n",
       "    </tr>\n",
       "    <tr>\n",
       "      <th>5032</th>\n",
       "      <td>2021-11-19</td>\n",
       "      <td>3676.570068</td>\n",
       "    </tr>\n",
       "    <tr>\n",
       "      <th>5033</th>\n",
       "      <td>2021-11-22</td>\n",
       "      <td>3572.570068</td>\n",
       "    </tr>\n",
       "    <tr>\n",
       "      <th>5034</th>\n",
       "      <td>2021-11-23</td>\n",
       "      <td>3580.040039</td>\n",
       "    </tr>\n",
       "    <tr>\n",
       "      <th>5035</th>\n",
       "      <td>2021-11-24</td>\n",
       "      <td>3580.409912</td>\n",
       "    </tr>\n",
       "    <tr>\n",
       "      <th>5036</th>\n",
       "      <td>2021-11-26</td>\n",
       "      <td>3583.189941</td>\n",
       "    </tr>\n",
       "  </tbody>\n",
       "</table>\n",
       "<p>5037 rows × 2 columns</p>\n",
       "</div>"
      ],
      "text/plain": [
       "             ds            y\n",
       "0    2001-11-26    12.210000\n",
       "1    2001-11-27    11.480000\n",
       "2    2001-11-28    11.590000\n",
       "3    2001-11-29    11.150000\n",
       "4    2001-11-30    11.320000\n",
       "...         ...          ...\n",
       "5032 2021-11-19  3676.570068\n",
       "5033 2021-11-22  3572.570068\n",
       "5034 2021-11-23  3580.040039\n",
       "5035 2021-11-24  3580.409912\n",
       "5036 2021-11-26  3583.189941\n",
       "\n",
       "[5037 rows x 2 columns]"
      ]
     },
     "execution_count": 7,
     "metadata": {},
     "output_type": "execute_result"
    }
   ],
   "source": [
    "df_amazon"
   ]
  },
  {
   "cell_type": "markdown",
   "metadata": {},
   "source": [
    "Finally, we save our datasets in CSV format:"
   ]
  },
  {
   "cell_type": "code",
   "execution_count": 8,
   "metadata": {},
   "outputs": [],
   "source": [
    "# Saving our data\n",
    "df_amazon.to_csv('../data/amazon.csv', index=False)\n",
    "df_apple.to_csv('../data/apple.csv', index=False)\n",
    "df_bitcoin.to_csv('../data/bitcoin.csv', index=False)\n",
    "df_ford.to_csv('../data/ford.csv', index=False)\n",
    "df_microsoft.to_csv('../data/microsoft.csv', index=False)\n",
    "df_tesla.to_csv('../data/tesla.csv', index=False)"
   ]
  }
 ],
 "metadata": {
  "interpreter": {
   "hash": "0600588c3b5f4418cbe7b5ebc6825b479f3bc010269d8b60d75058cdd010adfe"
  },
  "kernelspec": {
   "display_name": "Python 3.7.4 64-bit",
   "language": "python",
   "name": "python3"
  },
  "language_info": {
   "codemirror_mode": {
    "name": "ipython",
    "version": 3
   },
   "file_extension": ".py",
   "mimetype": "text/x-python",
   "name": "python",
   "nbconvert_exporter": "python",
   "pygments_lexer": "ipython3",
   "version": "3.7.4"
  },
  "orig_nbformat": 4
 },
 "nbformat": 4,
 "nbformat_minor": 2
}
