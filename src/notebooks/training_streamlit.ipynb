{
 "cells": [
  {
   "cell_type": "code",
   "execution_count": 1,
   "metadata": {},
   "outputs": [],
   "source": [
    "# Imports\n",
    "import os, sys\n",
    "path = os.getcwd()\n",
    "path = os.path.dirname(path)\n",
    "sys.path.append(path)\n",
    "from utils.utils import train_model_to_streamlit"
   ]
  },
  {
   "cell_type": "code",
   "execution_count": 2,
   "metadata": {},
   "outputs": [
    {
     "name": "stderr",
     "output_type": "stream",
     "text": [
      "INFO:fbprophet:Disabling daily seasonality. Run prophet with daily_seasonality=True to override this.\n"
     ]
    },
    {
     "name": "stdout",
     "output_type": "stream",
     "text": [
      "Model Succesfully Saved in: \n",
      "../models/amazon_2021.json\n"
     ]
    }
   ],
   "source": [
    "train_model_to_streamlit('../data/amazon.csv', 'amazon', [2001, 2020])\n",
    "train_model_to_streamlit('../data/apple.csv', 'apple', [2010, 2020])\n",
    "train_model_to_streamlit('../data/bitcoin.csv', 'bitcoin', [2019, 2020])\n",
    "train_model_to_streamlit('../data/ford.csv', 'ford', [2019, 2020])\n",
    "train_model_to_streamlit('../data/microsoft.csv', 'microsoft', [2015, 2020])\n",
    "train_model_to_streamlit('../data/tesla.csv', 'tesla', [2015, 2020])"
   ]
  }
 ],
 "metadata": {
  "interpreter": {
   "hash": "0600588c3b5f4418cbe7b5ebc6825b479f3bc010269d8b60d75058cdd010adfe"
  },
  "kernelspec": {
   "display_name": "Python 3.7.4 64-bit",
   "language": "python",
   "name": "python3"
  },
  "language_info": {
   "codemirror_mode": {
    "name": "ipython",
    "version": 3
   },
   "file_extension": ".py",
   "mimetype": "text/x-python",
   "name": "python",
   "nbconvert_exporter": "python",
   "pygments_lexer": "ipython3",
   "version": "3.7.4"
  },
  "orig_nbformat": 4
 },
 "nbformat": 4,
 "nbformat_minor": 2
}
